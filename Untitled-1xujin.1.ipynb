{
 "cells": [
  {
   "cell_type": "code",
   "execution_count": 4,
   "metadata": {},
   "outputs": [
    {
     "name": "stdout",
     "output_type": "stream",
     "text": [
      " 66042\n",
      " 7\n",
      "animal_s_name\n",
      "Lucy       566\n",
      "Bella      451\n",
      "Charlie    447\n",
      "Name: count, dtype: int64\n"
     ]
    }
   ],
   "source": [
    "import pandas as pd\n",
    "data = pd.read_csv('seattle_pet.1.csv')\n",
    "num_pets = data. shape [0]\n",
    "print(f\" {num_pets}\")\n",
    "num_variables = data.shape [1]\n",
    "print(f\" {num_variables}\")\n",
    "name_counts = data['animal_s_name']. value_counts()\n",
    "top_three_names = name_counts. head (3)\n",
    "print (top_three_names)\n"
   ]
  }
 ],
 "metadata": {
  "kernelspec": {
   "display_name": "base",
   "language": "python",
   "name": "python3"
  },
  "language_info": {
   "codemirror_mode": {
    "name": "ipython",
    "version": 3
   },
   "file_extension": ".py",
   "mimetype": "text/x-python",
   "name": "python",
   "nbconvert_exporter": "python",
   "pygments_lexer": "ipython3",
   "version": "3.10.9"
  }
 },
 "nbformat": 4,
 "nbformat_minor": 2
}
